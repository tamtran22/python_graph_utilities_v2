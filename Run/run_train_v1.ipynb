{
 "cells": [
  {
   "cell_type": "markdown",
   "metadata": {},
   "source": [
    "Load data"
   ]
  },
  {
   "cell_type": "code",
   "execution_count": 1,
   "metadata": {},
   "outputs": [],
   "source": [
    "import sys\n",
    "sys.path.insert(1, '/home/mlfm/tam/python_graph_utilities_v2/Codes/')\n",
    "import torch\n",
    "from dataset import OneDDatasetBuilder, OneDDatasetLoader\n",
    "from trainV1 import train, eval\n",
    "from plot import *\n",
    "from preprocessing import dataset_split_to_loader\n",
    "from networks_lstm import PARC\n",
    "import os\n",
    "\n",
    "os.environ[\"CUDA_VISIBLE_DEVICES\"]=\"4\"\n",
    "CUDA_LAUNCH_BLOCKING=1\n",
    "torch.cuda.empty_cache()"
   ]
  },
  {
   "cell_type": "code",
   "execution_count": 2,
   "metadata": {},
   "outputs": [],
   "source": [
    "# define arguments\n",
    "class objectview(object):\n",
    "    def __init__(self, d) -> None:\n",
    "        self.__dict__ = d\n",
    "    def setattr(self, attr_name, attr_value):\n",
    "        self.__dict__[attr_name] = attr_value\n",
    "\n",
    "args = objectview(d={\n",
    "    'total_time': 4.8,\n",
    "    'n_times': 201,\n",
    "    'batch_size': 1000,\n",
    "    'batch_n_times': 50,\n",
    "    'batch_step': 1,\n",
    "    'batch_recursive': True,\n",
    "    'device': torch.device(\"cuda:1\" if torch.cuda.is_available() else \"cpu\"),\n",
    "    'lr': 5e-7,\n",
    "    'weight_decay': 5e-4,\n",
    "    'epoch': 100,\n",
    "    'criterion': torch.nn.MSELoss(),\n",
    "    'n_hiddenfields': 64,\n",
    "    'n_hiddens': 10\n",
    "})"
   ]
  },
  {
   "cell_type": "code",
   "execution_count": 3,
   "metadata": {},
   "outputs": [],
   "source": [
    "# Build a dataset\n",
    "# dataset = OneDDatasetBuilder(\n",
    "#     raw_dir='/data1/tam/datasets',\n",
    "#     root_dir='/data1/tam/downloaded_datasets_new',\n",
    "#     data_names='all',\n",
    "#     time_names=[str(i).zfill(3) for i in range(201)],\n",
    "#     data_type=torch.float32\n",
    "# )"
   ]
  },
  {
   "cell_type": "code",
   "execution_count": 4,
   "metadata": {},
   "outputs": [],
   "source": [
    "# Load to normalize and batch\n",
    "dataset = OneDDatasetLoader(\n",
    "    root_dir='/data1/tam/downloaded_datasets_new',\n",
    "    sub_dir='normed_and_batched',\n",
    "    data_names='all',\n",
    "    time_names=[str(i).zfill(3) for i in range(201)]\n",
    ")\n",
    "\n",
    "# normalized_dataset = dataset.normalizing(\n",
    "#     sub_dir='normalized',\n",
    "#     scalers = {\n",
    "#         'node_attr' : ['minmax_scaler', 0],\n",
    "#         'edge_attr' : ['quantile_transformer', 0],\n",
    "#         'pressure' : ['quantile_transformer', None],\n",
    "#         'flowrate' : ['quantile_transformer', None]\n",
    "#     }\n",
    "# )\n",
    "\n",
    "# batched_dataset = normalized_dataset.batching(\n",
    "#     batch_size = args.batch_size,\n",
    "#     batch_n_times = args.batch_n_times, \n",
    "#     recursive = args.batch_recursive, \n",
    "#     sub_dir='/normed_and_batched', \n",
    "#     step=args.batch_step\n",
    "# )"
   ]
  },
  {
   "cell_type": "markdown",
   "metadata": {},
   "source": [
    "Train"
   ]
  },
  {
   "cell_type": "code",
   "execution_count": 5,
   "metadata": {},
   "outputs": [
    {
     "data": {
      "text/plain": [
       "(<torch_geometric.loader.dataloader.DataLoader at 0x7fd9f6d3c610>,\n",
       " <torch_geometric.loader.dataloader.DataLoader at 0x7fd9f6765250>)"
      ]
     },
     "execution_count": 5,
     "metadata": {},
     "output_type": "execute_result"
    }
   ],
   "source": [
    "## Prepare data\n",
    "train_loader, test_loader = dataset_split_to_loader(\n",
    "    dataset = dataset,\n",
    "    subset_ids = {\n",
    "        'train': list(range(0, 10)),\n",
    "        'test': list(range(20, 30))\n",
    "    },\n",
    "    n_datas_per_batch = 6\n",
    ")\n",
    "train_loader, test_loader"
   ]
  },
  {
   "cell_type": "code",
   "execution_count": 6,
   "metadata": {},
   "outputs": [],
   "source": [
    "## Prepare model\n",
    "_test_data = dataset[0]\n",
    "model = PARC(\n",
    "    n_fields=2,\n",
    "    n_timesteps=_test_data.pressure.size(1),\n",
    "    n_meshfields=(_test_data.node_attr.size(1),_test_data.edge_attr.size(1)), # Tuple(n_node_fields, n_mesh_fields)\n",
    "    n_bcfields=1,\n",
    "    n_hiddenfields=args.n_hiddenfields,\n",
    "    n_hiddens=args.n_hiddens\n",
    ").to(args.device)\n",
    "optimizer = torch.optim.Adam(model.parameters(), lr=args.lr, weight_decay=args.weight_decay)\n",
    "args.setattr(attr_name='optimizer', attr_value=optimizer)"
   ]
  },
  {
   "cell_type": "code",
   "execution_count": 7,
   "metadata": {},
   "outputs": [
    {
     "data": {
      "text/plain": [
       "Sequential(\n",
       "  (0): Linear(in_features=3, out_features=64, bias=True)\n",
       "  (1): LayerNorm((64,), eps=1e-05, elementwise_affine=True)\n",
       "  (2): ReLU()\n",
       "  (3): Linear(in_features=64, out_features=64, bias=True)\n",
       ")"
      ]
     },
     "execution_count": 7,
     "metadata": {},
     "output_type": "execute_result"
    }
   ],
   "source": [
    "model.derivative_solver.node_encoder"
   ]
  },
  {
   "cell_type": "code",
   "execution_count": 8,
   "metadata": {},
   "outputs": [
    {
     "name": "stdout",
     "output_type": "stream",
     "text": [
      "Epoch 0: train loss = 602.2242705059535; eval loss = 139.743755050117\n",
      "Epoch 1: train loss = 118.87491770323157; eval loss = 223.91126038217303\n",
      "Epoch 2: train loss = 255.6846462578943; eval loss = 194.48642327942824\n",
      "Epoch 3: train loss = 97.43796755214633; eval loss = 45.207445164017265\n",
      "Epoch 4: train loss = 51.64960468117961; eval loss = 73.37836138730121\n",
      "Epoch 5: train loss = 73.07506272756508; eval loss = 58.69086557959542\n",
      "Epoch 6: train loss = 34.051194994582744; eval loss = 22.435280514247527\n",
      "Epoch 7: train loss = 26.20055476057953; eval loss = 29.937368083121207\n",
      "Epoch 8: train loss = 34.00693237963062; eval loss = 31.08453346387989\n",
      "Epoch 9: train loss = 19.953155670069197; eval loss = 10.980107007292927\n",
      "Epoch 10: train loss = 8.77344737561221; eval loss = 8.126261771632935\n",
      "Epoch 11: train loss = 7.928302824194661; eval loss = 8.972786363611366\n",
      "Epoch 12: train loss = 7.999344060868781; eval loss = 8.527865625274968\n",
      "Epoch 13: train loss = 7.867796152376282; eval loss = 8.378505142812196\n",
      "Epoch 14: train loss = 8.522593814104342; eval loss = 9.325726107292368\n",
      "Epoch 15: train loss = 9.634410211882615; eval loss = 10.281304804806782\n",
      "Epoch 16: train loss = 10.40207614753452; eval loss = 10.530370165248813\n",
      "Epoch 17: train loss = 10.545851373430436; eval loss = 10.623039676453256\n",
      "Epoch 18: train loss = 10.524448593255832; eval loss = 10.500663597571668\n",
      "Epoch 19: train loss = 10.37912358124244; eval loss = 10.359031490868118\n",
      "Epoch 20: train loss = 10.196123212727194; eval loss = 10.275945607780805\n",
      "Epoch 21: train loss = 9.753752783470347; eval loss = 9.667063575105619\n",
      "Epoch 22: train loss = 9.153924811309968; eval loss = 8.966075764089672\n",
      "Epoch 23: train loss = 8.41386682854086; eval loss = 8.19068581077653\n",
      "Epoch 24: train loss = 7.697471600498645; eval loss = 7.419053853465821\n",
      "Epoch 25: train loss = 7.08218107489765; eval loss = 6.918060151453551\n",
      "Epoch 26: train loss = 6.5332468282147715; eval loss = 6.304445853693231\n",
      "Epoch 27: train loss = 6.025636032753185; eval loss = 5.941609049811581\n",
      "Epoch 28: train loss = 5.636770045091658; eval loss = 5.621287119570117\n",
      "Epoch 29: train loss = 5.30851596624113; eval loss = 5.3587499173159525\n",
      "Epoch 30: train loss = 5.031164413781336; eval loss = 5.139836754290585\n",
      "Epoch 31: train loss = 4.761719858585881; eval loss = 4.822883280400697\n",
      "Epoch 32: train loss = 4.4874697506125205; eval loss = 4.578490882960673\n",
      "Epoch 33: train loss = 4.210503027523835; eval loss = 4.235540055986588\n",
      "Epoch 34: train loss = 3.962428471763727; eval loss = 4.062101551118841\n",
      "Epoch 35: train loss = 3.777150140801057; eval loss = 3.862316346410567\n",
      "Epoch 36: train loss = 3.6871429179525617; eval loss = 3.804759619199685\n",
      "Epoch 37: train loss = 3.6170576447762812; eval loss = 3.729987047045364\n",
      "Epoch 38: train loss = 3.5861703502345206; eval loss = 3.612162766722858\n",
      "Epoch 39: train loss = 3.5342658074374125; eval loss = 3.6451481725963846\n",
      "Epoch 40: train loss = 3.4822031997787164; eval loss = 3.5145297262269226\n",
      "Epoch 41: train loss = 3.424041887225233; eval loss = 3.4258854800674516\n",
      "Epoch 42: train loss = 3.324028060520966; eval loss = 3.450266851386443\n"
     ]
    }
   ],
   "source": [
    "# Training\n",
    "total_train_loss = []\n",
    "total_eval_loss = []\n",
    "# batch = enumerate(list(range(0,10)))\n",
    "for epoch in range(args.epoch):\n",
    "    torch.cuda.empty_cache()\n",
    "    train_loss = 0\n",
    "    # for data in train_dataset:\n",
    "    for i in range(train_loader.__len__()):\n",
    "        data = next(iter(train_loader))\n",
    "        train_loss += train(model=model, data=data, args=args)\n",
    "\n",
    "    train_loss /= train_loader.__len__() # len(train_dataset)\n",
    "    total_train_loss.append(train_loss)\n",
    "\n",
    "    eval_loss = 0\n",
    "    # for data in eval_dataset:\n",
    "    for i in range(test_loader.__len__()):\n",
    "        data = next(iter(test_loader))\n",
    "        eval_loss += eval(model=model, data=data, args=args)\n",
    "    eval_loss /= test_loader.__len__() #len(eval_dataset)\n",
    "    total_eval_loss.append(eval_loss)\n",
    "    \n",
    "    # if (epoch > 25):\n",
    "    #     args.train_lambda = 0.5\n",
    "    print(f'Epoch {epoch}: train loss = {train_loss}; eval loss = {eval_loss}')\n",
    "    if (epoch+1) % 25 == 0:\n",
    "        torch.save(model.state_dict(), f'models/parc_v1_epoch{epoch+1}.pth')"
   ]
  },
  {
   "cell_type": "code",
   "execution_count": null,
   "metadata": {},
   "outputs": [],
   "source": [
    "import matplotlib.pyplot as plt\n",
    "plt.plot(total_train_loss[:100])\n",
    "plt.plot(total_eval_loss[:100])\n",
    "# plt.ylim(0,10)\n",
    "plt.show()"
   ]
  },
  {
   "cell_type": "code",
   "execution_count": null,
   "metadata": {},
   "outputs": [],
   "source": [
    "# Load to evaluate\n",
    "dataset = OneDDatasetLoader(\n",
    "    root_dir='/data1/tam/downloaded_datasets_new',\n",
    "    sub_dir='normalized',\n",
    "    data_names='all',\n",
    "    time_names=[str(i).zfill(3) for i in range(201)]\n",
    ")\n",
    "\n",
    "data = dataset[0]\n",
    "\n",
    "model = PARC(\n",
    "    n_fields=2,\n",
    "    n_timesteps=data.pressure.size(1),\n",
    "    n_meshfields=(data.node_attr.size(1),_test_data.edge_attr.size(1)), # Tuple(n_node_fields, n_mesh_fields)\n",
    "    n_bcfields=1,\n",
    "    n_hiddenfields=args.n_hiddenfields,\n",
    "    n_hiddens=args.n_hiddens\n",
    ").to(args.device)\n",
    "model.load_state_dict(torch.load(\n",
    "    'models/parc_v1_epoch50.pth',\n",
    "    map_location={'cuda:1': 'cuda:0'}\n",
    "))\n",
    "\n",
    "\n",
    "\n",
    "\n",
    "model.n_timesteps = data.pressure.size(1)\n",
    "timestep = args.total_time / model.n_timesteps\n",
    "\n",
    "## Connectivity/edge_index: Tensor(2, n_edges)\n",
    "edge_index = torch.cat([\n",
    "    data.edge_index, \n",
    "    torch.flip(data.edge_index, dims=[0]\n",
    ")], dim=1).to(args.device)\n",
    "\n",
    "## Mesh features: Tuple(NodeTensor, EdgeTensor)\n",
    "mesh_features = (\n",
    "    data.node_attr.to(args.device).float(),            \n",
    "    torch.cat([data.edge_attr.to(args.device).float()]*2,dim=0)\n",
    ")\n",
    "\n",
    "## Fields tensor(pressure, flowrate): Tensor(n_nodes, n_times, n_fields)\n",
    "F_initial = torch.cat([\n",
    "    data.pressure[:,0].unsqueeze(1), \n",
    "    data.flowrate[:,0].unsqueeze(1)\n",
    "], dim=-1).to(args.device).float() # concat pressure and flowrate\n",
    "\n",
    "## Boundary value tensor: Tensor(n_nodes, n_times)\n",
    "F_bc = torch.zeros((data.number_of_nodes, model.n_timesteps))\n",
    "F_bc[0,:] = data.flowrate[0,:]\n",
    "F_bc = F_bc.to(args.device).float()\n",
    "\n",
    "## Predict output\n",
    "with torch.no_grad():\n",
    "    Fs, F_dots = model(\n",
    "        F_initial=F_initial, \n",
    "        mesh_features=mesh_features, \n",
    "        edge_index=edge_index, \n",
    "        F_boundary=F_bc, \n",
    "        timestep=timestep\n",
    "    )\n",
    "\n",
    "    ## Ground truth Fields tensor(pressure, flowrate): Tensor(n_nodes, 1:n_times, n_fields)\n",
    "    Fs_hat = torch.cat([\n",
    "        data.pressure.unsqueeze(-1), \n",
    "        data.flowrate.unsqueeze(-1)\n",
    "    ], dim=-1).to(args.device).float() # concat pressure and flowrate\n",
    "    Fs_hat = Fs_hat[:,1:,:]\n",
    "    \n",
    "    ## Ground truth Fields time derivative tensor\n",
    "\n",
    "import matplotlib.pyplot as plt\n",
    "\n",
    "\n",
    "for i_node in [1000, 2000, 10000]:\n",
    "    i_field = 1\n",
    "    y_pred = Fs.cpu().numpy()[i_node,:,i_field]\n",
    "    y_true = Fs_hat.cpu().numpy()[i_node,:,i_field]\n",
    "    x = [i * 4.0 /200 for i in range(y_pred.shape[0])]\n",
    "    # print(data.node_attr.numpy()[i_node, 6])\n",
    "    # plt.ylim(-1,1)\n",
    "    plt.plot(x, y_pred, c='red', label='GNN Crank-Nicolson')\n",
    "    plt.plot(x, y_true, c='blue', linestyle='dashdot', label='ground_truth')\n",
    "    # plt.ylim([-1,1])\n",
    "    plt.legend(loc='upper right')\n",
    "    plt.ylabel('Flowrate', fontsize=20)\n",
    "    plt.xlabel('Time', fontsize=20)\n",
    "    plt.show()"
   ]
  }
 ],
 "metadata": {
  "kernelspec": {
   "display_name": "geometric",
   "language": "python",
   "name": "python3"
  },
  "language_info": {
   "codemirror_mode": {
    "name": "ipython",
    "version": 3
   },
   "file_extension": ".py",
   "mimetype": "text/x-python",
   "name": "python",
   "nbconvert_exporter": "python",
   "pygments_lexer": "ipython3",
   "version": "3.11.3"
  }
 },
 "nbformat": 4,
 "nbformat_minor": 2
}

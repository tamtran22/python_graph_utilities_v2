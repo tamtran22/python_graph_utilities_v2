{
 "cells": [
  {
   "cell_type": "markdown",
   "metadata": {},
   "source": [
    "Load data"
   ]
  },
  {
   "cell_type": "code",
   "execution_count": 1,
   "metadata": {},
   "outputs": [],
   "source": [
    "import sys\n",
    "sys.path.insert(1, '/home/mlfm/tam/python_graph_utilities_v2/Codes/')\n",
    "import torch\n",
    "from dataset import OneDDatasetBuilder, OneDDatasetLoader\n",
    "from trainV2 import train, eval\n",
    "from plot import *\n",
    "from preprocessing import dataset_split_to_loader\n",
    "from networks_lstm import PARC\n",
    "import os\n",
    "\n",
    "os.environ[\"CUDA_VISIBLE_DEVICES\"]=\"4\"\n",
    "CUDA_LAUNCH_BLOCKING=1\n",
    "torch.cuda.empty_cache()"
   ]
  },
  {
   "cell_type": "code",
   "execution_count": 2,
   "metadata": {},
   "outputs": [],
   "source": [
    "# define arguments\n",
    "class objectview(object):\n",
    "    def __init__(self, d) -> None:\n",
    "        self.__dict__ = d\n",
    "    def setattr(self, attr_name, attr_value):\n",
    "        self.__dict__[attr_name] = attr_value\n",
    "\n",
    "args = objectview(d={\n",
    "    'total_time': 4.8,\n",
    "    'n_times': 201,\n",
    "    'batch_size': 1000,\n",
    "    'batch_n_times': 50,\n",
    "    'batch_step': 1,\n",
    "    'batch_recursive': True,\n",
    "    'device': torch.device(\"cuda:2\" if torch.cuda.is_available() else \"cpu\"),\n",
    "    'lr': 5e-7,\n",
    "    'weight_decay': 5e-4,\n",
    "    'epoch': 100,\n",
    "    'criterion': torch.nn.MSELoss(),\n",
    "    'n_hiddenfields': 64,\n",
    "    'n_hiddens': 10\n",
    "})"
   ]
  },
  {
   "cell_type": "code",
   "execution_count": 3,
   "metadata": {},
   "outputs": [],
   "source": [
    "# Build a dataset\n",
    "# dataset = OneDDatasetBuilder(\n",
    "#     raw_dir='/data1/tam/datasets',\n",
    "#     root_dir='/data1/tam/downloaded_datasets_new',\n",
    "#     data_names='all',\n",
    "#     time_names=[str(i).zfill(3) for i in range(201)],\n",
    "#     data_type=torch.float32\n",
    "# )"
   ]
  },
  {
   "cell_type": "code",
   "execution_count": 4,
   "metadata": {},
   "outputs": [],
   "source": [
    "# Load to normalize and batch\n",
    "dataset = OneDDatasetLoader(\n",
    "    root_dir='/data1/tam/downloaded_datasets_new',\n",
    "    sub_dir='normed_and_batched_100',\n",
    "    data_names='all',\n",
    "    time_names=[str(i).zfill(3) for i in range(201)]\n",
    ")\n",
    "\n",
    "# normalized_dataset = dataset.normalizing(\n",
    "#     sub_dir='normalized',\n",
    "#     scalers = {\n",
    "#         'node_attr' : ['minmax_scaler', 0],\n",
    "#         'edge_attr' : ['quantile_transformer', 0],\n",
    "#         'pressure' : ['quantile_transformer', None],\n",
    "#         'flowrate' : ['quantile_transformer', None]\n",
    "#     }\n",
    "# )\n",
    "\n",
    "# batched_dataset = normalized_dataset.batching(\n",
    "#     batch_size = args.batch_size,\n",
    "#     batch_n_times = args.batch_n_times, \n",
    "#     recursive = args.batch_recursive, \n",
    "#     sub_dir='/normed_and_batched', \n",
    "#     step=args.batch_step\n",
    "# )"
   ]
  },
  {
   "cell_type": "markdown",
   "metadata": {},
   "source": [
    "Train"
   ]
  },
  {
   "cell_type": "code",
   "execution_count": 5,
   "metadata": {},
   "outputs": [
    {
     "data": {
      "text/plain": [
       "(353, 354)"
      ]
     },
     "execution_count": 5,
     "metadata": {},
     "output_type": "execute_result"
    }
   ],
   "source": [
    "## Prepare data\n",
    "train_loader, test_loader = dataset_split_to_loader(\n",
    "    dataset = dataset,\n",
    "    subset_ids = {\n",
    "        'train': list(range(0, 10)),\n",
    "        'test': list(range(20, 30))\n",
    "    },\n",
    "    n_datas_per_batch = 50\n",
    ")\n",
    "train_loader.__len__(), test_loader.__len__()"
   ]
  },
  {
   "cell_type": "code",
   "execution_count": 6,
   "metadata": {},
   "outputs": [],
   "source": [
    "## Prepare model\n",
    "_test_data = dataset[0]\n",
    "model = PARC(\n",
    "    n_fields=2,\n",
    "    n_timesteps=_test_data.pressure.size(1),\n",
    "    n_meshfields=(_test_data.node_attr.size(1),_test_data.edge_attr.size(1)), # Tuple(n_node_fields, n_mesh_fields)\n",
    "    n_bcfields=1,\n",
    "    n_hiddenfields=args.n_hiddenfields,\n",
    "    n_hiddens=args.n_hiddens\n",
    ").to(args.device)\n",
    "optimizer = torch.optim.Adam(model.parameters(), lr=args.lr, weight_decay=args.weight_decay)\n",
    "args.setattr(attr_name='optimizer', attr_value=optimizer)"
   ]
  },
  {
   "cell_type": "code",
   "execution_count": 7,
   "metadata": {},
   "outputs": [
    {
     "name": "stdout",
     "output_type": "stream",
     "text": [
      "Epoch 0: train loss = 5913.570911439891; eval loss = 5440.374020678849\n",
      "Epoch 1: train loss = 5057.733498030276; eval loss = 4638.73029771363\n",
      "Epoch 2: train loss = 4313.06226277554; eval loss = 3954.3900629248324\n",
      "Epoch 3: train loss = 3685.950991363093; eval loss = 3377.714819611803\n",
      "Epoch 4: train loss = 3144.3480663785854; eval loss = 2873.7152554786812\n",
      "Epoch 5: train loss = 2673.205697121769; eval loss = 2436.2131244206835\n",
      "Epoch 6: train loss = 2262.65749145162; eval loss = 2054.628078654661\n",
      "Epoch 7: train loss = 1904.7717547970522; eval loss = 1723.2385109077065\n",
      "Epoch 8: train loss = 1596.0940999579498; eval loss = 1440.5500988286767\n",
      "Epoch 9: train loss = 1334.2037495297009; eval loss = 1202.0615424032264\n",
      "Epoch 10: train loss = 1115.257433321253; eval loss = 1007.2601816640736\n",
      "Epoch 11: train loss = 939.3085987642196; eval loss = 853.9581231586004\n",
      "Epoch 12: train loss = 802.4650666234176; eval loss = 737.4165727001125\n",
      "Epoch 13: train loss = 700.1610736792891; eval loss = 653.1228317002119\n"
     ]
    },
    {
     "ename": "KeyboardInterrupt",
     "evalue": "",
     "output_type": "error",
     "traceback": [
      "\u001b[0;31m---------------------------------------------------------------------------\u001b[0m",
      "\u001b[0;31mKeyboardInterrupt\u001b[0m                         Traceback (most recent call last)",
      "\u001b[1;32m/home/mlfm/tam/python_graph_utilities_v2/Run/run_train_v2.ipynb Cell 9\u001b[0m line \u001b[0;36m1\n\u001b[1;32m      <a href='vscode-notebook-cell://ssh-remote%2B155.230.94.82/home/mlfm/tam/python_graph_utilities_v2/Run/run_train_v2.ipynb#X12sdnNjb2RlLXJlbW90ZQ%3D%3D?line=8'>9</a>\u001b[0m \u001b[39mfor\u001b[39;00m i \u001b[39min\u001b[39;00m \u001b[39mrange\u001b[39m(train_loader\u001b[39m.\u001b[39m\u001b[39m__len__\u001b[39m()):\n\u001b[1;32m     <a href='vscode-notebook-cell://ssh-remote%2B155.230.94.82/home/mlfm/tam/python_graph_utilities_v2/Run/run_train_v2.ipynb#X12sdnNjb2RlLXJlbW90ZQ%3D%3D?line=9'>10</a>\u001b[0m     data \u001b[39m=\u001b[39m \u001b[39mnext\u001b[39m(\u001b[39miter\u001b[39m(train_loader))\n\u001b[0;32m---> <a href='vscode-notebook-cell://ssh-remote%2B155.230.94.82/home/mlfm/tam/python_graph_utilities_v2/Run/run_train_v2.ipynb#X12sdnNjb2RlLXJlbW90ZQ%3D%3D?line=10'>11</a>\u001b[0m     train_loss \u001b[39m+\u001b[39m\u001b[39m=\u001b[39m train(model\u001b[39m=\u001b[39;49mmodel, data\u001b[39m=\u001b[39;49mdata, args\u001b[39m=\u001b[39;49margs)\n\u001b[1;32m     <a href='vscode-notebook-cell://ssh-remote%2B155.230.94.82/home/mlfm/tam/python_graph_utilities_v2/Run/run_train_v2.ipynb#X12sdnNjb2RlLXJlbW90ZQ%3D%3D?line=12'>13</a>\u001b[0m train_loss \u001b[39m/\u001b[39m\u001b[39m=\u001b[39m train_loader\u001b[39m.\u001b[39m\u001b[39m__len__\u001b[39m() \u001b[39m# len(train_dataset)\u001b[39;00m\n\u001b[1;32m     <a href='vscode-notebook-cell://ssh-remote%2B155.230.94.82/home/mlfm/tam/python_graph_utilities_v2/Run/run_train_v2.ipynb#X12sdnNjb2RlLXJlbW90ZQ%3D%3D?line=13'>14</a>\u001b[0m total_train_loss\u001b[39m.\u001b[39mappend(train_loss)\n",
      "File \u001b[0;32m~/tam/python_graph_utilities_v2/Codes/train.py:53\u001b[0m, in \u001b[0;36mtrain\u001b[0;34m(model, data, args)\u001b[0m\n\u001b[1;32m     49\u001b[0m \u001b[39m## Ground truth Fields time derivative tensor\u001b[39;00m\n\u001b[1;32m     50\u001b[0m \n\u001b[1;32m     51\u001b[0m \u001b[39m## Loss function\u001b[39;00m\n\u001b[1;32m     52\u001b[0m loss \u001b[39m=\u001b[39m args\u001b[39m.\u001b[39mcriterion(Fs_hat, Fs)\n\u001b[0;32m---> 53\u001b[0m loss\u001b[39m.\u001b[39;49mbackward()\n\u001b[1;32m     54\u001b[0m args\u001b[39m.\u001b[39moptimizer\u001b[39m.\u001b[39mstep()\n\u001b[1;32m     56\u001b[0m \u001b[39mreturn\u001b[39;00m loss\u001b[39m.\u001b[39mitem()\n",
      "File \u001b[0;32m~/anaconda3/envs/geometric/lib/python3.11/site-packages/torch/_tensor.py:487\u001b[0m, in \u001b[0;36mTensor.backward\u001b[0;34m(self, gradient, retain_graph, create_graph, inputs)\u001b[0m\n\u001b[1;32m    477\u001b[0m \u001b[39mif\u001b[39;00m has_torch_function_unary(\u001b[39mself\u001b[39m):\n\u001b[1;32m    478\u001b[0m     \u001b[39mreturn\u001b[39;00m handle_torch_function(\n\u001b[1;32m    479\u001b[0m         Tensor\u001b[39m.\u001b[39mbackward,\n\u001b[1;32m    480\u001b[0m         (\u001b[39mself\u001b[39m,),\n\u001b[0;32m   (...)\u001b[0m\n\u001b[1;32m    485\u001b[0m         inputs\u001b[39m=\u001b[39minputs,\n\u001b[1;32m    486\u001b[0m     )\n\u001b[0;32m--> 487\u001b[0m torch\u001b[39m.\u001b[39;49mautograd\u001b[39m.\u001b[39;49mbackward(\n\u001b[1;32m    488\u001b[0m     \u001b[39mself\u001b[39;49m, gradient, retain_graph, create_graph, inputs\u001b[39m=\u001b[39;49minputs\n\u001b[1;32m    489\u001b[0m )\n",
      "File \u001b[0;32m~/anaconda3/envs/geometric/lib/python3.11/site-packages/torch/autograd/__init__.py:200\u001b[0m, in \u001b[0;36mbackward\u001b[0;34m(tensors, grad_tensors, retain_graph, create_graph, grad_variables, inputs)\u001b[0m\n\u001b[1;32m    195\u001b[0m     retain_graph \u001b[39m=\u001b[39m create_graph\n\u001b[1;32m    197\u001b[0m \u001b[39m# The reason we repeat same the comment below is that\u001b[39;00m\n\u001b[1;32m    198\u001b[0m \u001b[39m# some Python versions print out the first line of a multi-line function\u001b[39;00m\n\u001b[1;32m    199\u001b[0m \u001b[39m# calls in the traceback and some print out the last line\u001b[39;00m\n\u001b[0;32m--> 200\u001b[0m Variable\u001b[39m.\u001b[39;49m_execution_engine\u001b[39m.\u001b[39;49mrun_backward(  \u001b[39m# Calls into the C++ engine to run the backward pass\u001b[39;49;00m\n\u001b[1;32m    201\u001b[0m     tensors, grad_tensors_, retain_graph, create_graph, inputs,\n\u001b[1;32m    202\u001b[0m     allow_unreachable\u001b[39m=\u001b[39;49m\u001b[39mTrue\u001b[39;49;00m, accumulate_grad\u001b[39m=\u001b[39;49m\u001b[39mTrue\u001b[39;49;00m)\n",
      "\u001b[0;31mKeyboardInterrupt\u001b[0m: "
     ]
    }
   ],
   "source": [
    "# Training\n",
    "total_train_loss = []\n",
    "total_eval_loss = []\n",
    "# batch = enumerate(list(range(0,10)))\n",
    "for epoch in range(args.epoch):\n",
    "    torch.cuda.empty_cache()\n",
    "    train_loss = 0\n",
    "    # for data in train_dataset:\n",
    "    for i in range(train_loader.__len__()):\n",
    "        data = next(iter(train_loader))\n",
    "        train_loss += train(model=model, data=data, args=args)\n",
    "\n",
    "    train_loss /= train_loader.__len__() # len(train_dataset)\n",
    "    total_train_loss.append(train_loss)\n",
    "\n",
    "    eval_loss = 0\n",
    "    # for data in eval_dataset:\n",
    "    for i in range(test_loader.__len__()):\n",
    "        data = next(iter(test_loader))\n",
    "        eval_loss += eval(model=model, data=data, args=args)\n",
    "    eval_loss /= test_loader.__len__() #len(eval_dataset)\n",
    "    total_eval_loss.append(eval_loss)\n",
    "    \n",
    "    # if (epoch > 25):\n",
    "    #     args.train_lambda = 0.5\n",
    "    print(f'Epoch {epoch}: train loss = {train_loss}; eval loss = {eval_loss}')\n",
    "    if (epoch+1) % 25 == 0:\n",
    "        torch.save(model.state_dict(), f'models/parc_v2_epoch{epoch+1}.pth')"
   ]
  },
  {
   "cell_type": "code",
   "execution_count": null,
   "metadata": {},
   "outputs": [],
   "source": [
    "import matplotlib.pyplot as plt\n",
    "plt.plot(total_train_loss[:100])\n",
    "plt.plot(total_eval_loss[:100])\n",
    "# plt.ylim(0,10)\n",
    "plt.show()"
   ]
  },
  {
   "cell_type": "code",
   "execution_count": null,
   "metadata": {},
   "outputs": [],
   "source": [
    "# Load to evaluate\n",
    "dataset = OneDDatasetLoader(\n",
    "    root_dir='/data1/tam/downloaded_datasets_new',\n",
    "    sub_dir='normalized',\n",
    "    data_names='all',\n",
    "    time_names=[str(i).zfill(3) for i in range(201)]\n",
    ")\n",
    "\n",
    "data = dataset[0]\n",
    "\n",
    "model = PARC(\n",
    "    n_fields=2,\n",
    "    n_timesteps=data.pressure.size(1),\n",
    "    n_meshfields=(data.node_attr.size(1),_test_data.edge_attr.size(1)), # Tuple(n_node_fields, n_mesh_fields)\n",
    "    n_bcfields=1,\n",
    "    n_hiddenfields=args.n_hiddenfields,\n",
    "    n_hiddens=args.n_hiddens\n",
    ").to(args.device)\n",
    "model.load_state_dict(torch.load(\n",
    "    'models/parc_v1_epoch100.pth',\n",
    "    map_location={'cuda:0': 'cuda:0'}\n",
    "))\n",
    "\n",
    "\n",
    "\n",
    "\n",
    "model.n_timesteps = data.pressure.size(1)\n",
    "timestep = args.total_time / model.n_timesteps\n",
    "\n",
    "## Connectivity/edge_index: Tensor(2, n_edges)\n",
    "edge_index = torch.cat([\n",
    "    data.edge_index, \n",
    "    torch.flip(data.edge_index, dims=[0]\n",
    ")], dim=1).to(args.device)\n",
    "\n",
    "## Mesh features: Tuple(NodeTensor, EdgeTensor)\n",
    "mesh_features = (\n",
    "    data.node_attr.to(args.device).float(),            \n",
    "    torch.cat([data.edge_attr.to(args.device).float()]*2,dim=0)\n",
    ")\n",
    "\n",
    "## Fields tensor(pressure, flowrate): Tensor(n_nodes, n_times, n_fields)\n",
    "F_initial = torch.cat([\n",
    "    data.pressure[:,0].unsqueeze(1), \n",
    "    data.flowrate[:,0].unsqueeze(1)\n",
    "], dim=-1).to(args.device).float() # concat pressure and flowrate\n",
    "\n",
    "## Boundary value tensor: Tensor(n_nodes, n_times)\n",
    "F_bc = torch.zeros((data.number_of_nodes, model.n_timesteps))\n",
    "F_bc[0,:] = data.flowrate[0,:]\n",
    "F_bc = F_bc.to(args.device).float()\n",
    "\n",
    "## Predict output\n",
    "with torch.no_grad():\n",
    "    Fs, F_dots = model(\n",
    "        F_initial=F_initial, \n",
    "        mesh_features=mesh_features, \n",
    "        edge_index=edge_index, \n",
    "        F_boundary=F_bc, \n",
    "        timestep=timestep\n",
    "    )\n",
    "\n",
    "    ## Ground truth Fields tensor(pressure, flowrate): Tensor(n_nodes, 1:n_times, n_fields)\n",
    "    Fs_hat = torch.cat([\n",
    "        data.pressure.unsqueeze(-1), \n",
    "        data.flowrate.unsqueeze(-1)\n",
    "    ], dim=-1).to(args.device).float() # concat pressure and flowrate\n",
    "    Fs_hat = Fs_hat[:,1:,:]\n",
    "    \n",
    "    ## Ground truth Fields time derivative tensor\n",
    "\n",
    "import matplotlib.pyplot as plt\n",
    "\n",
    "\n",
    "for i_node in [1000, 2000, 10000]:\n",
    "    i_field = 1\n",
    "    y_pred = Fs.cpu().numpy()[i_node,:,i_field]\n",
    "    y_true = Fs_hat.cpu().numpy()[i_node,:,i_field]\n",
    "    x = [i * 4.0 /200 for i in range(y_pred.shape[0])]\n",
    "    # print(data.node_attr.numpy()[i_node, 6])\n",
    "    # plt.ylim(-1,1)\n",
    "    plt.plot(x, y_pred, c='red', label='GNN Crank-Nicolson')\n",
    "    plt.plot(x, y_true, c='blue', linestyle='dashdot', label='ground_truth')\n",
    "    # plt.ylim([-1,1])\n",
    "    plt.legend(loc='upper right')\n",
    "    plt.ylabel('Flowrate', fontsize=20)\n",
    "    plt.xlabel('Time', fontsize=20)\n",
    "    plt.show()"
   ]
  }
 ],
 "metadata": {
  "kernelspec": {
   "display_name": "geometric",
   "language": "python",
   "name": "python3"
  },
  "language_info": {
   "codemirror_mode": {
    "name": "ipython",
    "version": 3
   },
   "file_extension": ".py",
   "mimetype": "text/x-python",
   "name": "python",
   "nbconvert_exporter": "python",
   "pygments_lexer": "ipython3",
   "version": "3.11.3"
  }
 },
 "nbformat": 4,
 "nbformat_minor": 2
}
